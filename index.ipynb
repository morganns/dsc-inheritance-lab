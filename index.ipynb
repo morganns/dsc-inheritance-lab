{
 "cells": [
  {
   "cell_type": "markdown",
   "metadata": {},
   "source": [
    "# Inheritance - Lab\n",
    "\n",
    "## Introduction\n",
    "\n",
    "In this lab, you'll use what you've learned about inheritance to model a zoo using superclasses, subclasses, and maybe even an abstract superclass!\n",
    "\n",
    "## Objectives\n",
    "\n",
    "In this lab you will: \n",
    "\n",
    "- Create a domain model using OOP \n",
    "- Use inheritance to write nonredundant code \n",
    "\n",
    "## Modeling a Zoo\n",
    "\n",
    "Consider the following scenario:  You've been hired by a zookeeper to build a program that keeps track of all the animals in the zoo.  This is a great opportunity to make use of inheritance and object-oriented programming!\n",
    "\n",
    "## Creating an Abstract Superclass\n",
    "\n",
    "Start by creating an abstract superclass, `Animal()`.  When your program is complete, all subclasses of `Animal()` will have the following attributes:\n",
    "\n",
    "* `name`, which is a string set at instantation time\n",
    "* `size`, which can be `'small'`, `'medium'`, `'large'`, or `'enormous'` \n",
    "* `weight`, which is an integer set at instantiation time \n",
    "* `species`, a string that tells us the species of the animal\n",
    "* `food_type`, which can be `'herbivore'`, `'carnivore'`, or `'omnivore'`\n",
    "* `nocturnal`, a boolean value that is `True` if the animal sleeps during the day, otherwise `False`\n",
    "\n",
    "They'll also have the following behaviors:\n",
    "\n",
    "* `sleep`, which prints a string saying if the animal sleeps during day or night\n",
    "* `eat`, which takes in the string `'plants'` or `'meat'`, and returns `'{animal name} the {animal species} thinks {food} is yummy!'` or `'I don't eat this!'` based on the animal's `food_type` attribute \n",
    "\n",
    "In the cell below, create an abstract superclass that meets these specifications.\n",
    "\n",
    "**_NOTE:_** For some attributes in an abstract superclass such as `size`, the initial value doesn't matter -- just make sure that you remember to override it in each of the subclasses!"
   ]
  },
  {
   "cell_type": "code",
   "execution_count": 1,
   "metadata": {},
   "outputs": [],
   "source": [
    "from abc import ABC, abstractmethod\n",
    "\n",
    "class Animal(ABC):\n",
    "    def __init__(self, name, size, weight, species, food_type, nocturnal):\n",
    "        self.name = name\n",
    "        self.size = size  # 'small', 'medium', 'large', or 'enormous'\n",
    "        self.weight = weight\n",
    "        self.species = species\n",
    "        self.food_type = food_type  # 'herbivore', 'carnivore', or 'omnivore'\n",
    "        self.nocturnal = nocturnal  # True if the animal sleeps during the day\n",
    "\n",
    "    def sleep(self):\n",
    "        if self.nocturnal:\n",
    "            print(f\"{self.name} the {self.species} sleeps during the day.\")\n",
    "        else:\n",
    "            print(f\"{self.name} the {self.species} sleeps at night.\")\n",
    "\n",
    "    def eat(self, food):\n",
    "        if (self.food_type == 'herbivore' and food == 'plants') or \\\n",
    "           (self.food_type == 'carnivore' and food == 'meat') or \\\n",
    "           (self.food_type == 'omnivore'):\n",
    "            print(f\"{self.name} the {self.species} thinks {food} is yummy!\")\n",
    "        else:\n",
    "            print(\"I don't eat this!\")"
   ]
  },
  {
   "cell_type": "markdown",
   "metadata": {},
   "source": [
    "Great! Now that you have our abstract superclass, you can begin building out the specific animal classes.\n",
    "\n",
    "In the cell below, complete the `Elephant()` class.  This class should:\n",
    "\n",
    "* subclass `Animal` \n",
    "* have a species of `'elephant'` \n",
    "* have a size of `'enormous'` \n",
    "* have a food type of `'herbivore'` \n",
    "* set nocturnal to `False` \n",
    "\n",
    "**_Hint:_** Remember to make use of `.super()` during initialization, and be sure to pass in the values it expects at instantiation time!"
   ]
  },
  {
   "cell_type": "code",
   "execution_count": 2,
   "metadata": {},
   "outputs": [],
   "source": [
    "class Elephant(Animal):\n",
    "    def __init__(self, name, weight):\n",
    "        super().__init__(name, 'enormous', weight, 'elephant', 'herbivore', False)\n"
   ]
  },
  {
   "cell_type": "markdown",
   "metadata": {},
   "source": [
    "Great! Now, in the cell below, create a `Tiger()` class.  This class should: \n",
    "\n",
    "* subclass `Animal` \n",
    "* have a species of `'tiger'` \n",
    "* have a size of `'large'` \n",
    "* have a food type of `'carnivore'` \n",
    "* set nocturnal to `True` "
   ]
  },
  {
   "cell_type": "code",
   "execution_count": 3,
   "metadata": {},
   "outputs": [],
   "source": [
    "class Tiger(Animal):\n",
    "    def __init__(self, name, weight):\n",
    "        super().__init__(name, 'large', weight, 'tiger', 'carnivore', True)\n"
   ]
  },
  {
   "cell_type": "markdown",
   "metadata": {},
   "source": [
    "Great! Two more classes to go. In the cell below, create a `Raccoon()` class. This class should:\n",
    "\n",
    "* subclass `Animal` \n",
    "* have a species of `raccoon` \n",
    "* have a size of `'small'` \n",
    "* have a food type of `'omnivore'` \n",
    "* set nocturnal to `True` "
   ]
  },
  {
   "cell_type": "code",
   "execution_count": 4,
   "metadata": {},
   "outputs": [],
   "source": [
    "class Raccoon(Animal):\n",
    "    def __init__(self, name, weight):\n",
    "        super().__init__(name, 'small', weight, 'raccoon', 'omnivore', True)"
   ]
  },
  {
   "cell_type": "markdown",
   "metadata": {},
   "source": [
    "Finally, create a `Gorilla()` class. This class should:\n",
    "\n",
    "* subclass `Animal` \n",
    "* have a species of `gorilla` \n",
    "* have a size of `'large'` \n",
    "* have a food type of `'herbivore'` \n",
    "* set nocturnal to `False` "
   ]
  },
  {
   "cell_type": "code",
   "execution_count": 5,
   "metadata": {},
   "outputs": [],
   "source": [
    "class Gorilla(Animal):\n",
    "    pass\n",
    "class Gorilla(Animal):\n",
    "    def __init__(self, name, weight):\n",
    "        super().__init__(name, 'large', weight, 'gorilla', 'omnivore', True)"
   ]
  },
  {
   "cell_type": "markdown",
   "metadata": {},
   "source": [
    "## Using Our Objects\n",
    "\n",
    "Now it's time to populate the zoo! To ease the creation of animal instances, create a function `add_animal_to_zoo()`.\n",
    "\n",
    "This function should take in the following parameters:\n",
    "\n",
    "* `zoo`, an array representing the current state of the zoo \n",
    "* `animal_type`, a string.  Can be `'Gorilla'`, `'Raccoon'`, `'Tiger'`, or `'Elephant'` \n",
    "* `name`, the name of the animal being created \n",
    "* `weight`, the weight of the animal being created \n",
    "\n",
    "The function should then:\n",
    "\n",
    "* use `animal_type` to determine which object to create\n",
    "* Create an instance of that animal, passing in the `name` and `weight`\n",
    "* Append the newly created animal to `zoo`\n",
    "* Return `zoo`"
   ]
  },
  {
   "cell_type": "code",
   "execution_count": 6,
   "metadata": {},
   "outputs": [],
   "source": [
    "def add_animal_to_zoo(zoo, animal_type: str, name: str, weight: float):\n",
    "    # Create the appropriate animal object based on animal_type\n",
    "    if animal_type == 'Gorilla':\n",
    "        animal = Gorilla(name, weight)\n",
    "    elif animal_type == 'Raccoon':\n",
    "        animal = Raccoon(name, weight)\n",
    "    elif animal_type == 'Tiger':\n",
    "        animal = Tiger(name, weight)\n",
    "    elif animal_type == 'Elephant':\n",
    "        animal = Elephant(name, weight)\n",
    "    else:\n",
    "        print(\"Unknown animal type!\")\n",
    "        return zoo\n",
    "\n",
    "    # Append the created animal to the zoo\n",
    "    zoo.append(animal)\n",
    "    \n",
    "    # Return the updated zoo\n",
    "    return zoo\n",
    "\n"
   ]
  },
  {
   "cell_type": "markdown",
   "metadata": {},
   "source": [
    "Great! Now, add some animals to your zoo. \n",
    "\n",
    "Create the following animals and add them to your zoo.  The names and weights are up to you.\n",
    "\n",
    "* 2 Elephants\n",
    "* 2 Raccons\n",
    "* 1 Gorilla\n",
    "* 3 Tigers"
   ]
  },
  {
   "cell_type": "code",
   "execution_count": 7,
   "metadata": {},
   "outputs": [
    {
     "name": "stdout",
     "output_type": "stream",
     "text": [
      "Dumbo the elephant is now in the zoo!\n",
      "Dumbo the elephant sleeps at night.\n",
      "Babar the elephant is now in the zoo!\n",
      "Babar the elephant sleeps at night.\n",
      "Rocky the raccoon is now in the zoo!\n",
      "Rocky the raccoon sleeps during the day.\n",
      "Bandit the raccoon is now in the zoo!\n",
      "Bandit the raccoon sleeps during the day.\n",
      "King Kong the gorilla is now in the zoo!\n",
      "King Kong the gorilla sleeps during the day.\n",
      "Shere Khan the tiger is now in the zoo!\n",
      "Shere Khan the tiger sleeps during the day.\n",
      "Rajah the tiger is now in the zoo!\n",
      "Rajah the tiger sleeps during the day.\n",
      "Siberian Tiger the tiger is now in the zoo!\n",
      "Siberian Tiger the tiger sleeps during the day.\n"
     ]
    }
   ],
   "source": [
    "# Create your animals and add them to the 'zoo' in this cell!\n",
    "# Initial empty zoo\n",
    "zoo = []\n",
    "\n",
    "# Adding 2 Elephants to the zoo\n",
    "zoo = add_animal_to_zoo(zoo, 'Elephant', 'Dumbo', 6000)\n",
    "zoo = add_animal_to_zoo(zoo, 'Elephant', 'Babar', 5800)\n",
    "\n",
    "# Adding 2 Raccoons to the zoo\n",
    "zoo = add_animal_to_zoo(zoo, 'Raccoon', 'Rocky', 12)\n",
    "zoo = add_animal_to_zoo(zoo, 'Raccoon', 'Bandit', 10)\n",
    "\n",
    "# Adding 1 Gorilla to the zoo\n",
    "zoo = add_animal_to_zoo(zoo, 'Gorilla', 'King Kong', 180)\n",
    "\n",
    "# Adding 3 Tigers to the zoo\n",
    "zoo = add_animal_to_zoo(zoo, 'Tiger', 'Shere Khan', 250)\n",
    "zoo = add_animal_to_zoo(zoo, 'Tiger', 'Rajah', 230)\n",
    "zoo = add_animal_to_zoo(zoo, 'Tiger', 'Siberian Tiger', 300)\n",
    "\n",
    "# Display the zoo and animal details\n",
    "for animal in zoo:\n",
    "    print(f\"{animal.name} the {animal.species} is now in the zoo!\")\n",
    "    animal.sleep()  # Example of calling the sleep method for eac\n"
   ]
  },
  {
   "cell_type": "markdown",
   "metadata": {},
   "source": [
    "Great! Now that you have a populated zoo, you can do what the zookeeper hired you to do -- write a program that feeds the correct animals the right food at the right times!\n",
    "\n",
    "To do this, write a function called `feed_animals()`. This function should take in two arguments:\n",
    "\n",
    "* `zoo`, the zoo array containing all the animals\n",
    "* `time`, which can be `'Day'` or `'Night'`.  This should default to day if nothing is entered for `time` \n",
    "\n",
    "This function should:\n",
    "\n",
    "* Feed only the non-nocturnal animals if `time='Day'`, or only the nocturnal animals if `time='Night'`\n",
    "* Check the food type of each animal before feeding.  If the animal is a carnivore, feed it `'meat'`; otherwise, feed it `'plants'`. Feed the animals by using their `.eat()` method "
   ]
  },
  {
   "cell_type": "code",
   "execution_count": 8,
   "metadata": {},
   "outputs": [
    {
     "name": "stdout",
     "output_type": "stream",
     "text": [
      "Dumbo the elephant thinks plants is yummy!\n",
      "Babar the elephant thinks plants is yummy!\n",
      "Rocky the raccoon thinks plants is yummy!\n",
      "Bandit the raccoon thinks plants is yummy!\n",
      "King Kong the gorilla thinks plants is yummy!\n",
      "Shere Khan the tiger thinks meat is yummy!\n",
      "Rajah the tiger thinks meat is yummy!\n",
      "Siberian Tiger the tiger thinks meat is yummy!\n"
     ]
    }
   ],
   "source": [
    "def feed_animals(zoo, time='Day'):\n",
    "    # Loop through each animal in the zoo\n",
    "    for animal in zoo:\n",
    "        # Check if it's the correct time for the animal (Day or Night)\n",
    "        if (time == 'Day' and not animal.nocturnal) or (time == 'Night' and animal.nocturnal):\n",
    "            # Check the food type and feed accordingly\n",
    "            if animal.food_type == 'carnivore':\n",
    "                animal.eat('meat')\n",
    "            else:\n",
    "                animal.eat('plants')\n",
    "\n",
    "# Example of calling the feed_animals function\n",
    "feed_animals(zoo, 'Day')  # Feed animals during the day\n",
    "feed_animals(zoo, 'Night')  # Feed animals during the night\n"
   ]
  },
  {
   "cell_type": "markdown",
   "metadata": {},
   "source": [
    "Now, test out your program.  Call the function for a daytime feeding below."
   ]
  },
  {
   "cell_type": "code",
   "execution_count": 9,
   "metadata": {},
   "outputs": [
    {
     "name": "stdout",
     "output_type": "stream",
     "text": [
      "Dumbo the elephant thinks plants is yummy!\n",
      "Babar the elephant thinks plants is yummy!\n"
     ]
    }
   ],
   "source": [
    "# Function to feed animals based on time and their nocturnal status\n",
    "def feed_animals(zoo, time='Day'):\n",
    "    # Loop through each animal in the zoo\n",
    "    for animal in zoo:\n",
    "        # Check if it's the correct time for the animal (Day or Night)\n",
    "        if (time == 'Day' and not animal.nocturnal) or (time == 'Night' and animal.nocturnal):\n",
    "            # Check the food type and feed accordingly\n",
    "            if animal.food_type == 'carnivore':\n",
    "                animal.eat('meat')\n",
    "            else:\n",
    "                animal.eat('plants')\n",
    "\n",
    "# Initial empty zoo\n",
    "zoo = []\n",
    "\n",
    "# Adding animals to the zoo (same as before)\n",
    "zoo = add_animal_to_zoo(zoo, 'Elephant', 'Dumbo', 6000)\n",
    "zoo = add_animal_to_zoo(zoo, 'Elephant', 'Babar', 5800)\n",
    "zoo = add_animal_to_zoo(zoo, 'Raccoon', 'Rocky', 12)\n",
    "zoo = add_animal_to_zoo(zoo, 'Raccoon', 'Bandit', 10)\n",
    "zoo = add_animal_to_zoo(zoo, 'Gorilla', 'King Kong', 180)\n",
    "zoo = add_animal_to_zoo(zoo, 'Tiger', 'Shere Khan', 250)\n",
    "zoo = add_animal_to_zoo(zoo, 'Tiger', 'Rajah', 230)\n",
    "zoo = add_animal_to_zoo(zoo, 'Tiger', 'Siberian Tiger', 300)\n",
    "\n",
    "# Now, feed the animals during the day\n",
    "feed_animals(zoo, 'Day')  # Feed animals during the day\n"
   ]
  },
  {
   "cell_type": "markdown",
   "metadata": {},
   "source": [
    "If the elephants and gorrillas were fed then things should be good!\n",
    "\n",
    "In the cell below, call `feed_animals()` again, but this time set `time='Night'`"
   ]
  },
  {
   "cell_type": "code",
   "execution_count": 10,
   "metadata": {},
   "outputs": [
    {
     "name": "stdout",
     "output_type": "stream",
     "text": [
      "Rocky the raccoon thinks plants is yummy!\n",
      "Bandit the raccoon thinks plants is yummy!\n",
      "King Kong the gorilla thinks plants is yummy!\n",
      "Shere Khan the tiger thinks meat is yummy!\n",
      "Rajah the tiger thinks meat is yummy!\n",
      "Siberian Tiger the tiger thinks meat is yummy!\n"
     ]
    }
   ],
   "source": [
    "# Feed animals during the night\n",
    "feed_animals(zoo, 'Night')\n"
   ]
  },
  {
   "cell_type": "markdown",
   "metadata": {},
   "source": [
    "That's it! You've used OOP and inheritance to build a working program to help the zookeeper feed his animals with right food at the correct times!\n",
    "\n",
    "## Summary\n",
    "\n",
    "In this lab, you modeled a zoo and learned how to use inheritance to write nonredundant code, used subclasses and superclasses, and create a domain model using OOP."
   ]
  }
 ],
 "metadata": {
  "kernelspec": {
   "display_name": "Python 3",
   "language": "python",
   "name": "python3"
  },
  "language_info": {
   "codemirror_mode": {
    "name": "ipython",
    "version": 3
   },
   "file_extension": ".py",
   "mimetype": "text/x-python",
   "name": "python",
   "nbconvert_exporter": "python",
   "pygments_lexer": "ipython3",
   "version": "3.8.5"
  }
 },
 "nbformat": 4,
 "nbformat_minor": 2
}
